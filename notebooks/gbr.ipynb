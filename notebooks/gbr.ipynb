{
 "cells": [
  {
   "cell_type": "code",
   "execution_count": 1,
   "metadata": {},
   "outputs": [],
   "source": [
    "import numpy as np\n",
    "import pandas as pd\n",
    "import matplotlib.pyplot as plt\n",
    "import seaborn as sns\n",
    "import pylab as pb\n",
    "import gpflow\n",
    "\n",
    "#%autoreload 2\n",
    "\n",
    "# import helper functions\n",
    "import sys\n",
    "sys.path.append(\"./src\")\n",
    "import simulator as sim\n",
    "import likopt \n",
    "import gpext\n",
    "\n",
    "# configure plot style\n",
    "sns.set_context(\"poster\")\n",
    "sns.set_style(\"whitegrid\", \n",
    "              {\"axes.facecolor\": \"1.0\", \n",
    "               \"axes.edgecolor\": \"0.5\",\n",
    "               \"grid.linestyle\": \"-\",\n",
    "              })\n",
    "plt.style.use(\"whitegrid.mplstyle\")"
   ]
  },
  {
   "cell_type": "markdown",
   "metadata": {},
   "source": [
    "## Data"
   ]
  },
  {
   "cell_type": "code",
   "execution_count": 12,
   "metadata": {},
   "outputs": [],
   "source": [
    "meta_df =  pd.read_csv(\"/project/jnovembre/data/external_public/ancient-data/output/reich_ancients_mrg_meta.csv\", \n",
    "                       sep=\",\")\n",
    "het_df = pd.read_csv(\"/project/jnovembre/data/external_public/ancient-data/output/het/olalde_2018_3trm_het.csv\", \n",
    "                     sep=\",\", \n",
    "                     header=None)\n",
    "het_df.columns = [\"iid\", \"h_hat\", \"s2_hat\"]\n",
    "df = meta_df.merge(het_df, on=[\"iid\"], how=\"inner\")"
   ]
  },
  {
   "cell_type": "code",
   "execution_count": 34,
   "metadata": {},
   "outputs": [
    {
     "data": {
      "text/html": [
       "<div>\n",
       "<style scoped>\n",
       "    .dataframe tbody tr th:only-of-type {\n",
       "        vertical-align: middle;\n",
       "    }\n",
       "\n",
       "    .dataframe tbody tr th {\n",
       "        vertical-align: top;\n",
       "    }\n",
       "\n",
       "    .dataframe thead th {\n",
       "        text-align: right;\n",
       "    }\n",
       "</style>\n",
       "<table border=\"1\" class=\"dataframe\">\n",
       "  <thead>\n",
       "    <tr style=\"text-align: right;\">\n",
       "      <th></th>\n",
       "      <th>iid</th>\n",
       "      <th>clst</th>\n",
       "      <th>country</th>\n",
       "      <th>cov</th>\n",
       "      <th>n_snps</th>\n",
       "      <th>lat</th>\n",
       "      <th>lon</th>\n",
       "      <th>age</th>\n",
       "      <th>sex</th>\n",
       "      <th>qc</th>\n",
       "      <th>h_hat</th>\n",
       "      <th>s2_hat</th>\n",
       "    </tr>\n",
       "  </thead>\n",
       "  <tbody>\n",
       "    <tr>\n",
       "      <th>0</th>\n",
       "      <td>I2450</td>\n",
       "      <td>Beaker Britain</td>\n",
       "      <td>Great Britain</td>\n",
       "      <td>NaN</td>\n",
       "      <td>904314.0</td>\n",
       "      <td>51.680000</td>\n",
       "      <td>-1.297000</td>\n",
       "      <td>4321.5</td>\n",
       "      <td>F</td>\n",
       "      <td>NaN</td>\n",
       "      <td>0.222016</td>\n",
       "      <td>3.451527e-07</td>\n",
       "    </tr>\n",
       "    <tr>\n",
       "      <th>2</th>\n",
       "      <td>I2418</td>\n",
       "      <td>Beaker Britain</td>\n",
       "      <td>Great Britain</td>\n",
       "      <td>NaN</td>\n",
       "      <td>656573.0</td>\n",
       "      <td>51.160000</td>\n",
       "      <td>-1.770000</td>\n",
       "      <td>4345.5</td>\n",
       "      <td>F</td>\n",
       "      <td>NaN</td>\n",
       "      <td>0.190690</td>\n",
       "      <td>7.731203e-07</td>\n",
       "    </tr>\n",
       "    <tr>\n",
       "      <th>7</th>\n",
       "      <td>I2417</td>\n",
       "      <td>Beaker Britain</td>\n",
       "      <td>Great Britain</td>\n",
       "      <td>NaN</td>\n",
       "      <td>829575.0</td>\n",
       "      <td>51.160000</td>\n",
       "      <td>-1.770000</td>\n",
       "      <td>4338.0</td>\n",
       "      <td>M</td>\n",
       "      <td>NaN</td>\n",
       "      <td>0.200827</td>\n",
       "      <td>5.824282e-07</td>\n",
       "    </tr>\n",
       "    <tr>\n",
       "      <th>8</th>\n",
       "      <td>I5379</td>\n",
       "      <td>Beaker Britain</td>\n",
       "      <td>Great Britain</td>\n",
       "      <td>NaN</td>\n",
       "      <td>700532.0</td>\n",
       "      <td>50.919204</td>\n",
       "      <td>-2.015441</td>\n",
       "      <td>4400.5</td>\n",
       "      <td>M</td>\n",
       "      <td>NaN</td>\n",
       "      <td>0.205570</td>\n",
       "      <td>6.395212e-07</td>\n",
       "    </tr>\n",
       "    <tr>\n",
       "      <th>9</th>\n",
       "      <td>I4950</td>\n",
       "      <td>Beaker Britain</td>\n",
       "      <td>Great Britain</td>\n",
       "      <td>NaN</td>\n",
       "      <td>777787.0</td>\n",
       "      <td>51.289876</td>\n",
       "      <td>-1.807234</td>\n",
       "      <td>4168.0</td>\n",
       "      <td>M</td>\n",
       "      <td>NaN</td>\n",
       "      <td>0.185484</td>\n",
       "      <td>7.574967e-07</td>\n",
       "    </tr>\n",
       "  </tbody>\n",
       "</table>\n",
       "</div>"
      ],
      "text/plain": [
       "     iid            clst        country  cov    n_snps        lat       lon  \\\n",
       "0  I2450  Beaker Britain  Great Britain  NaN  904314.0  51.680000 -1.297000   \n",
       "2  I2418  Beaker Britain  Great Britain  NaN  656573.0  51.160000 -1.770000   \n",
       "7  I2417  Beaker Britain  Great Britain  NaN  829575.0  51.160000 -1.770000   \n",
       "8  I5379  Beaker Britain  Great Britain  NaN  700532.0  50.919204 -2.015441   \n",
       "9  I4950  Beaker Britain  Great Britain  NaN  777787.0  51.289876 -1.807234   \n",
       "\n",
       "      age sex   qc     h_hat        s2_hat  \n",
       "0  4321.5   F  NaN  0.222016  3.451527e-07  \n",
       "2  4345.5   F  NaN  0.190690  7.731203e-07  \n",
       "7  4338.0   M  NaN  0.200827  5.824282e-07  \n",
       "8  4400.5   M  NaN  0.205570  6.395212e-07  \n",
       "9  4168.0   M  NaN  0.185484  7.574967e-07  "
      ]
     },
     "execution_count": 34,
     "metadata": {},
     "output_type": "execute_result"
    }
   ],
   "source": [
    "gbr_df = df[df[\"country\"] == \"Great Britain\"]\n",
    "gbr_df = gbr_df[gbr_df[\"n_snps\"] >=6e5]\n",
    "gbr_df.head()"
   ]
  },
  {
   "cell_type": "code",
   "execution_count": 41,
   "metadata": {},
   "outputs": [],
   "source": [
    "h_hat = gbr_df[\"h_hat\"].as_matrix()\n",
    "s2_hat = gbr_df[\"s2_hat\"].as_matrix()\n",
    "t = gbr_df[\"age\"].as_matrix()"
   ]
  },
  {
   "cell_type": "code",
   "execution_count": 36,
   "metadata": {},
   "outputs": [
    {
     "data": {
      "text/plain": [
       "<matplotlib.collections.PathCollection at 0x7fbfcf33eba8>"
      ]
     },
     "execution_count": 36,
     "metadata": {},
     "output_type": "execute_result"
    },
    {
     "data": {
      "image/png": "[encoded data removed]",
      "text/plain": [
       "<Figure size 432x288 with 1 Axes>"
      ]
     },
     "metadata": {},
     "output_type": "display_data"
    }
   ],
   "source": [
    "plt.scatter(gbr_df[\"age\"], gbr_df[\"h_hat\"])\n",
    "#plt.hist(np.log10(gbr_df[\"s2_hat\"]))"
   ]
  },
  {
   "cell_type": "markdown",
   "metadata": {},
   "source": [
    "## Inference"
   ]
  },
  {
   "cell_type": "code",
   "execution_count": 90,
   "metadata": {},
   "outputs": [
    {
     "name": "stderr",
     "output_type": "stream",
     "text": [
      "/project/jnovembre/jhmarcus/src/miniconda3/envs/gp_env/lib/python3.6/site-packages/gpflow/densities.py:89: UserWarning: Shape of x must be 2D at computation.\n",
      "  warnings.warn('Shape of x must be 2D at computation.')\n"
     ]
    }
   ],
   "source": [
    "model = gpext.GPRHet(t[:,None].astype(np.float64), h_hat[:,None], kern=gpflow.kernels.Matern32(1))\n",
    "model.s2_hat = s2_hat\n",
    "model.s2_hat.trainable = False\n",
    "\n",
    "#model.likelihood.variance = 0.0\n",
    "#model.likelihood.variance.trainable = False"
   ]
  },
  {
   "cell_type": "code",
   "execution_count": 91,
   "metadata": {},
   "outputs": [
    {
     "name": "stdout",
     "output_type": "stream",
     "text": [
      "INFO:tensorflow:Optimization terminated with:\n",
      "  Message: b'CONVERGENCE: NORM_OF_PROJECTED_GRADIENT_<=_PGTOL'\n",
      "  Objective function value: -259.882898\n",
      "  Number of iterations: 39\n",
      "  Number of functions evaluations: 51\n"
     ]
    },
    {
     "name": "stderr",
     "output_type": "stream",
     "text": [
      "INFO:tensorflow:Optimization terminated with:\n",
      "  Message: b'CONVERGENCE: NORM_OF_PROJECTED_GRADIENT_<=_PGTOL'\n",
      "  Objective function value: -259.882898\n",
      "  Number of iterations: 39\n",
      "  Number of functions evaluations: 51\n"
     ]
    }
   ],
   "source": [
    "opt = gpflow.train.ScipyOptimizer()\n",
    "opt.minimize(model)"
   ]
  },
  {
   "cell_type": "code",
   "execution_count": 92,
   "metadata": {},
   "outputs": [],
   "source": [
    "xx = np.array(list(range(6000))).reshape(6000, 1)\n",
    "mu_pt, var_pt = model.predict_y(t[:,None].astype(np.float64))\n",
    "mu, var = model.predict_y(xx)"
   ]
  },
  {
   "cell_type": "markdown",
   "metadata": {},
   "source": [
    "## Critique"
   ]
  },
  {
   "cell_type": "code",
   "execution_count": 93,
   "metadata": {},
   "outputs": [
    {
     "data": {
      "text/plain": [
       "Text(0,0.5,'Exp Het')"
      ]
     },
     "execution_count": 93,
     "metadata": {},
     "output_type": "execute_result"
    },
    {
     "data": {
      "image/png": "[encoded data removed]",
      "text/plain": [
       "<Figure size 432x288 with 1 Axes>"
      ]
     },
     "metadata": {},
     "output_type": "display_data"
    }
   ],
   "source": [
    "plt.plot(mu)\n",
    "plt.fill_between(xx[:,0], mu[:,0] -  2 * np.sqrt(var[:,0]), \n",
    "                 mu[:,0] + 2 * np.sqrt(var[:,0]), \n",
    "                 color=\"blue\", \n",
    "                 alpha=0.2)\n",
    "plt.scatter(t, h_hat)\n",
    "plt.xlabel(\"Time\");\n",
    "plt.ylabel(\"Exp Het\")"
   ]
  },
  {
   "cell_type": "code",
   "execution_count": 87,
   "metadata": {},
   "outputs": [
    {
     "data": {
      "text/plain": [
       "array(0.00013771)"
      ]
     },
     "execution_count": 87,
     "metadata": {},
     "output_type": "execute_result"
    }
   ],
   "source": [
    "model.likelihood.variance.value"
   ]
  },
  {
   "cell_type": "code",
   "execution_count": null,
   "metadata": {},
   "outputs": [],
   "source": []
  }
 ],
 "metadata": {
  "kernelspec": {
   "display_name": "Python 3",
   "language": "python",
   "name": "python3"
  },
  "language_info": {
   "codemirror_mode": {
    "name": "ipython",
    "version": 3
   },
   "file_extension": ".py",
   "mimetype": "text/x-python",
   "name": "python",
   "nbconvert_exporter": "python",
   "pygments_lexer": "ipython3",
   "version": "3.6.4"
  }
 },
 "nbformat": 4,
 "nbformat_minor": 2
}
