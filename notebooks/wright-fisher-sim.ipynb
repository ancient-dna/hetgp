{
 "cells": [
  {
   "cell_type": "markdown",
   "metadata": {},
   "source": [
    "# Wright-Fisher Simulations\n",
    "\n",
    "*in progress*"
   ]
  },
  {
   "cell_type": "markdown",
   "metadata": {},
   "source": [
    "## Imports / configuration"
   ]
  },
  {
   "cell_type": "code",
   "execution_count": 1,
   "metadata": {},
   "outputs": [],
   "source": [
    "%load_ext autoreload"
   ]
  },
  {
   "cell_type": "code",
   "execution_count": 2,
   "metadata": {},
   "outputs": [],
   "source": [
    "import numpy as np\n",
    "import pandas as pd\n",
    "import matplotlib.pyplot as plt\n",
    "import seaborn as sns\n",
    "import pylab as pb\n",
    "import GPy as gp\n",
    "\n",
    "%autoreload 2\n",
    "\n",
    "# import helper functions\n",
    "import sys\n",
    "sys.path.append(\"src\")\n",
    "import simulator as sim\n",
    "import likopt as opt\n",
    "\n",
    "# configure plot style\n",
    "sns.set_context(\"poster\")\n",
    "sns.set_style(\"whitegrid\", \n",
    "              {\"axes.facecolor\": \"1.0\", \n",
    "               \"axes.edgecolor\": \"0.5\",\n",
    "               \"grid.linestyle\": \"-\",\n",
    "              })\n",
    "plt.style.use(\"whitegrid.mplstyle\")"
   ]
  },
  {
   "cell_type": "markdown",
   "metadata": {},
   "source": [
    "## Simulation"
   ]
  },
  {
   "cell_type": "markdown",
   "metadata": {},
   "source": [
    "Simulate allele frequencies"
   ]
  },
  {
   "cell_type": "code",
   "execution_count": 3,
   "metadata": {},
   "outputs": [],
   "source": [
    "p = 5000 # number of SNPs\n",
    "n_e = 5000 # effective population size\n",
    "max_gen = 700 # number of generations to sim 700*25 17500\n",
    "F = sim.simulate_frequencies(p, n_e, max_gen)"
   ]
  },
  {
   "cell_type": "markdown",
   "metadata": {},
   "source": [
    "Simulate genotypes"
   ]
  },
  {
   "cell_type": "code",
   "execution_count": 4,
   "metadata": {},
   "outputs": [],
   "source": [
    "n = 20 # number of sampled individuals\n",
    "\n",
    "# sampled time points\n",
    "t = np.sort(np.random.choice(range(F.shape[0]), size=n, replace=False))\n",
    "X = sim.simulate_genotypes(t, F)"
   ]
  },
  {
   "cell_type": "markdown",
   "metadata": {},
   "source": [
    "Simulate reads"
   ]
  },
  {
   "cell_type": "code",
   "execution_count": 5,
   "metadata": {},
   "outputs": [],
   "source": [
    "eps = .01 # error rate\n",
    "lamb = .5 # average coverage\n",
    "Y, C = sim.simulate_reads(X, eps, lamb)"
   ]
  },
  {
   "cell_type": "markdown",
   "metadata": {},
   "source": [
    "Plot a hist of the coverage distribution for a the first individual"
   ]
  },
  {
   "cell_type": "code",
   "execution_count": null,
   "metadata": {},
   "outputs": [],
   "source": [
    "i = 5\n",
    "plt.hist(C[i,:]);\n",
    "print(np.sum(C[i,:]>0))\n",
    "plt.xlabel(\"Coverage\");\n",
    "plt.ylabel(\"Count\");"
   ]
  },
  {
   "cell_type": "markdown",
   "metadata": {},
   "source": [
    "Plot some example trajectories"
   ]
  },
  {
   "cell_type": "code",
   "execution_count": null,
   "metadata": {},
   "outputs": [],
   "source": [
    "idx = np.sort(np.random.choice(range(p), size=20, replace=False))\n",
    "for j in idx:\n",
    "    plt.plot(range(max_gen), F[:,j])\n",
    "    \n",
    "plt.xlabel(\"Time\");\n",
    "plt.ylabel(\"Allele Frequency\");"
   ]
  },
  {
   "cell_type": "markdown",
   "metadata": {},
   "source": [
    "Compute the population heterozygosity"
   ]
  },
  {
   "cell_type": "code",
   "execution_count": 6,
   "metadata": {},
   "outputs": [],
   "source": [
    "H = 2 * F * (1 - F) # for all time points\n",
    "h_true = np.sum(H, axis=1) / p\n",
    "h = h_true[t] # for sampled time points"
   ]
  },
  {
   "cell_type": "markdown",
   "metadata": {},
   "source": [
    "Compute an estimate of heterozygosity from genotypes"
   ]
  },
  {
   "cell_type": "code",
   "execution_count": 7,
   "metadata": {},
   "outputs": [],
   "source": [
    "h_hat = sim.est_het_geno(X)"
   ]
  },
  {
   "cell_type": "markdown",
   "metadata": {},
   "source": [
    "Plot population heterozygosity against time"
   ]
  },
  {
   "cell_type": "code",
   "execution_count": null,
   "metadata": {},
   "outputs": [],
   "source": [
    "plt.scatter(t, h)\n",
    "plt.xlabel(\"Time\");\n",
    "plt.ylabel(\"Pop Het\");"
   ]
  },
  {
   "cell_type": "markdown",
   "metadata": {},
   "source": [
    "Plot estimated heterozygosity against time"
   ]
  },
  {
   "cell_type": "code",
   "execution_count": null,
   "metadata": {},
   "outputs": [],
   "source": [
    "plt.scatter(t, h_hat)\n",
    "plt.xlabel(\"Time\");\n",
    "plt.ylabel(\"Estimted Het\");"
   ]
  },
  {
   "cell_type": "markdown",
   "metadata": {},
   "source": [
    "## Inference"
   ]
  },
  {
   "cell_type": "markdown",
   "metadata": {},
   "source": [
    "Fit a Gaussian Process regression model with a Matern kernal. We use an emprical Bayes approach where the marginal likelihood is maximized to estimate hyper parameters of the covariance kernal and then posterior is then analytically computed ..."
   ]
  },
  {
   "cell_type": "code",
   "execution_count": null,
   "metadata": {},
   "outputs": [],
   "source": [
    "#kern = gp.kern.Matern52(1) # set the kernal\n",
    "kern = gp.kern.Exponential(1)\n",
    "model = gp.models.GPRegression(t[:,None], h_hat_read[:,None], kern) # set the model\n",
    "\n",
    "# fixing the noise variance\n",
    "h_mod = H[-1,:]\n",
    "sigma2_e = np.sum(h_mod * (1. - h_mod)) / p**2\n",
    "model[\".*Gaussian_noise\"] = sigma2_e \n",
    "model[\".*Gaussian_noise\"].fix()\n",
    "\n",
    "# fixing the lengthscale\n",
    "#model[\".*lengthscale\"] = 12 * n_e\n",
    "#model[\".*lengthscale\"].fix()"
   ]
  },
  {
   "cell_type": "code",
   "execution_count": null,
   "metadata": {},
   "outputs": [],
   "source": [
    "%%time\n",
    "model.optimize()\n",
    "model_df = pd.DataFrame({\"Posterior Mean\": model.posterior.mean[:,0], \"Pop Het\":h, \"Est Het\": h_hat})"
   ]
  },
  {
   "cell_type": "markdown",
   "metadata": {},
   "source": [
    "Fitting this is incredibly quick!"
   ]
  },
  {
   "cell_type": "markdown",
   "metadata": {},
   "source": [
    "## Critique"
   ]
  },
  {
   "cell_type": "markdown",
   "metadata": {},
   "source": [
    "Here is a plot of the posterior mean and variance output by the analytical posterior of the Gaussian Process model"
   ]
  },
  {
   "cell_type": "code",
   "execution_count": null,
   "metadata": {},
   "outputs": [],
   "source": [
    "model.plot_f();\n",
    "plt.xlabel(\"Time\");\n",
    "plt.ylabel(\"Posterior Mean\");\n",
    "plt.plot(t, h_hat,'kx', mew=1.5);"
   ]
  },
  {
   "cell_type": "markdown",
   "metadata": {},
   "source": [
    "Here is a plot of the posterior mean against the population heterozygosity"
   ]
  },
  {
   "cell_type": "code",
   "execution_count": null,
   "metadata": {},
   "outputs": [],
   "source": [
    "sim.plot_xy(model_df[\"Posterior Mean\"], model_df[\"Pop Het\"])\n",
    "plt.xlabel(\"Posterior Mean\");\n",
    "plt.ylabel(\"Pop Het\");\n",
    "\n",
    "# compute correlation\n",
    "np.corrcoef(model_df[\"Posterior Mean\"], model_df[\"Pop Het\"])[0,1]"
   ]
  },
  {
   "cell_type": "markdown",
   "metadata": {},
   "source": [
    "Here is a plot of the naive heterozygosity estimate"
   ]
  },
  {
   "cell_type": "code",
   "execution_count": null,
   "metadata": {
    "scrolled": false
   },
   "outputs": [],
   "source": [
    "sim.plot_xy(model_df[\"Est Het\"], model_df[\"Pop Het\"])\n",
    "plt.xlabel(\"Est Het\");\n",
    "plt.ylabel(\"Pop Het\");\n",
    "\n",
    "# compute correlation\n",
    "np.corrcoef(model_df[\"Est Het\"], model_df[\"Pop Het\"])[0,1]"
   ]
  },
  {
   "cell_type": "markdown",
   "metadata": {},
   "source": [
    "Here are the fitted kernal parameters"
   ]
  },
  {
   "cell_type": "code",
   "execution_count": null,
   "metadata": {},
   "outputs": [],
   "source": [
    "model.kern"
   ]
  },
  {
   "cell_type": "code",
   "execution_count": null,
   "metadata": {},
   "outputs": [],
   "source": [
    "lengthscale = model.kern.lengthscale[0]"
   ]
  },
  {
   "cell_type": "markdown",
   "metadata": {},
   "source": [
    "It seems the GP does provides a better fit than just the naive approach of computing the MLE of heterozygosity from the genotypes!"
   ]
  },
  {
   "cell_type": "markdown",
   "metadata": {},
   "source": [
    "### Effect of the lengthscale"
   ]
  },
  {
   "cell_type": "markdown",
   "metadata": {},
   "source": [
    "Lets try running the simulation with fewer SNPs"
   ]
  },
  {
   "cell_type": "code",
   "execution_count": null,
   "metadata": {},
   "outputs": [],
   "source": [
    "p = 2000 # number of SNPs\n",
    "n_e = 5000 # effective population size\n",
    "max_gen = 700 # number of generations to sim 700*25 17500\n",
    "F = sim.simulate_frequencies(p, n_e, max_gen)\n",
    "\n",
    "n = 20\n",
    "t = np.sort(np.random.choice(range(F.shape[0]), size=n, replace=False))\n",
    "X = sim.simulate_genotypes(t, F)\n",
    "h_hat = sim.est_het_geno(X)"
   ]
  },
  {
   "cell_type": "code",
   "execution_count": 22,
   "metadata": {},
   "outputs": [],
   "source": [
    "#kern = gp.kern.Matern52(1) # set the kernal\n",
    "kern = gp.kern.Exponential(1)\n",
    "model = gp.models.GPRegression(t[:,None], h_hat[:,None], kern) # set the model\n",
    "\n",
    "# fixing the noise variance\n",
    "h_mod = H[-1,:]\n",
    "sigma2_e = np.sum(h_mod * (1. - h_mod)) / p**2\n",
    "model[\".*Gaussian_noise\"] = sigma2_e \n",
    "model[\".*Gaussian_noise\"].fix()"
   ]
  },
  {
   "cell_type": "code",
   "execution_count": null,
   "metadata": {},
   "outputs": [],
   "source": [
    "%%time\n",
    "model.optimize()\n",
    "model_df = pd.DataFrame({\"Posterior Mean\": model.posterior.mean[:,0], \"Pop Het\":h, \"Est Het\": h_hat})"
   ]
  },
  {
   "cell_type": "code",
   "execution_count": null,
   "metadata": {},
   "outputs": [],
   "source": [
    "model.plot_f();\n",
    "plt.xlabel(\"Time\");\n",
    "plt.ylabel(\"Posterior Mean\");\n",
    "plt.plot(t, h_hat,'kx',mew=1.5)"
   ]
  },
  {
   "cell_type": "code",
   "execution_count": null,
   "metadata": {},
   "outputs": [],
   "source": [
    "sim.plot_xy(model_df[\"Posterior Mean\"], model_df[\"Pop Het\"])\n",
    "np.corrcoef(model_df[\"Posterior Mean\"], model_df[\"Pop Het\"])[0,1]"
   ]
  },
  {
   "cell_type": "code",
   "execution_count": null,
   "metadata": {},
   "outputs": [],
   "source": [
    "sim.plot_xy(model_df[\"Est Het\"], model_df[\"Pop Het\"])\n",
    "np.corrcoef(model_df[\"Est Het\"], model_df[\"Pop Het\"])[0,1]"
   ]
  },
  {
   "cell_type": "markdown",
   "metadata": {},
   "source": [
    "Now lets try fixing the lengthscale to $12 N_e$"
   ]
  },
  {
   "cell_type": "code",
   "execution_count": null,
   "metadata": {},
   "outputs": [],
   "source": [
    "kern = gp.kern.Exponential(1)\n",
    "model = gp.models.GPRegression(t[:,None], h_hat[:,None], kern) # set the model\n",
    "\n",
    "# fixing the noise variance\n",
    "h_mod = H[-1,:]\n",
    "sigma2_e = np.sum(h_mod * (1. - h_mod)) / p**2\n",
    "model[\".*Gaussian_noise\"] = sigma2_e \n",
    "model[\".*Gaussian_noise\"].fix()\n",
    "model[\".*lengthscale\"] = 12 * n_e\n",
    "model[\".*lengthscale\"].fix()"
   ]
  },
  {
   "cell_type": "code",
   "execution_count": null,
   "metadata": {},
   "outputs": [],
   "source": [
    "%%time\n",
    "model.optimize()\n",
    "model_df = pd.DataFrame({\"Posterior Mean\": model.posterior.mean[:,0], \"Pop Het\":h, \"Est Het\": h_hat})"
   ]
  },
  {
   "cell_type": "code",
   "execution_count": null,
   "metadata": {},
   "outputs": [],
   "source": [
    "model.plot_f();\n",
    "plt.xlabel(\"Time\");\n",
    "plt.ylabel(\"Posterior Mean\");\n",
    "plt.plot(t, h_hat,'kx',mew=1.5)"
   ]
  },
  {
   "cell_type": "code",
   "execution_count": null,
   "metadata": {},
   "outputs": [],
   "source": [
    "sim.plot_xy(model_df[\"Posterior Mean\"], model_df[\"Pop Het\"])\n",
    "np.corrcoef(model_df[\"Posterior Mean\"], model_df[\"Pop Het\"])[0,1]"
   ]
  },
  {
   "cell_type": "code",
   "execution_count": null,
   "metadata": {},
   "outputs": [],
   "source": [
    "sim.plot_xy(model_df[\"Est Het\"], model_df[\"Pop Het\"])\n",
    "np.corrcoef(model_df[\"Est Het\"], model_df[\"Pop Het\"])[0,1]"
   ]
  },
  {
   "cell_type": "markdown",
   "metadata": {},
   "source": [
    "## Sandbox"
   ]
  },
  {
   "cell_type": "code",
   "execution_count": 18,
   "metadata": {},
   "outputs": [
    {
     "name": "stdout",
     "output_type": "stream",
     "text": [
      "0\n",
      "1\n",
      "2\n",
      "3\n",
      "4\n",
      "5\n",
      "6\n",
      "7\n",
      "8\n",
      "9\n",
      "10\n",
      "11\n",
      "12\n",
      "13\n",
      "14\n",
      "15\n",
      "16\n",
      "17\n",
      "18\n",
      "19\n",
      "CPU times: user 6.97 s, sys: 1.75 s, total: 8.72 s\n",
      "Wall time: 8.77 s\n"
     ]
    }
   ],
   "source": [
    "%%time\n",
    "h_hat_read = np.empty(n)\n",
    "sigma2_fi = np.empty(n)\n",
    "for i in range(n):\n",
    "    print(i)\n",
    "    L = opt.comp_lik_mat(Y[i,:], C[i,:], .01)\n",
    "    pi_hat = opt.est_freq_read(L)\n",
    "    h_hat_read[i] = pi_hat[1]\n",
    "    sigma2_fi[i] = opt.comp_fish_info(L, pi_hat)"
   ]
  },
  {
   "cell_type": "code",
   "execution_count": 19,
   "metadata": {},
   "outputs": [
    {
     "data": {
      "image/png": "[encoded data removed]",
      "text/plain": [
       "<Figure size 432x288 with 1 Axes>"
      ]
     },
     "metadata": {},
     "output_type": "display_data"
    }
   ],
   "source": [
    "sim.plot_xy(h_hat_read, h)"
   ]
  },
  {
   "cell_type": "code",
   "execution_count": null,
   "metadata": {},
   "outputs": [],
   "source": [
    "np.corrcoef(h_hat_read, h_hat)"
   ]
  },
  {
   "cell_type": "code",
   "execution_count": null,
   "metadata": {},
   "outputs": [],
   "source": []
  }
 ],
 "metadata": {
  "kernelspec": {
   "display_name": "Python 3",
   "language": "python",
   "name": "python3"
  },
  "language_info": {
   "codemirror_mode": {
    "name": "ipython",
    "version": 3
   },
   "file_extension": ".py",
   "mimetype": "text/x-python",
   "name": "python",
   "nbconvert_exporter": "python",
   "pygments_lexer": "ipython3",
   "version": "3.6.4"
  }
 },
 "nbformat": 4,
 "nbformat_minor": 2
}
